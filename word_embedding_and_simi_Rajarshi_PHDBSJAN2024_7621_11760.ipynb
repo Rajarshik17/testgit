{
  "nbformat": 4,
  "nbformat_minor": 0,
  "metadata": {
    "colab": {
      "provenance": []
    },
    "kernelspec": {
      "name": "python3",
      "display_name": "Python 3"
    },
    "language_info": {
      "name": "python"
    }
  },
  "cells": [
    {
      "cell_type": "markdown",
      "source": [
        "# **What is word embedding?**\n",
        "\n",
        "Word embedding is a process to transfer words into a vector space.\n",
        "Every word is the given sentence will be represented as a vector space where word will have vectors on n dimensions regarding its semantic meaning.  "
      ],
      "metadata": {
        "id": "ek2iA3ra20CA"
      }
    },
    {
      "cell_type": "markdown",
      "source": [
        "\n",
        "# **Whar are word embedding models?**\n",
        "BERT, Word2Vec- developed by Google;\n",
        "FastText- developed by Meta;\n",
        "GloVe- developed by Stanford NLP."
      ],
      "metadata": {
        "id": "cKFbuzsp31nF"
      }
    },
    {
      "cell_type": "markdown",
      "source": [
        "# **How can you find similarity between two sentences using word embeddings**"
      ],
      "metadata": {
        "id": "R4JH7u4f4sdM"
      }
    },
    {
      "cell_type": "markdown",
      "source": [
        "I will use Word2Vec model in the code to find out the similarity"
      ],
      "metadata": {
        "id": "5RD08EwL2mT2"
      }
    },
    {
      "cell_type": "code",
      "execution_count": 7,
      "metadata": {
        "id": "Fl3HVQHIzYnT"
      },
      "outputs": [],
      "source": [
        "from gensim.models import Word2Vec\n",
        "from nltk.tokenize import word_tokenize\n",
        "import nltk\n",
        "import numpy as np"
      ]
    },
    {
      "cell_type": "code",
      "source": [
        "nltk.download('punkt') # as we're going to tokenize the sentences this Punkt tokenizer should be avail locally"
      ],
      "metadata": {
        "colab": {
          "base_uri": "https://localhost:8080/"
        },
        "id": "cdSYJJxD0vxp",
        "outputId": "6aa5ff77-1f41-4dae-ac87-9b74abede248"
      },
      "execution_count": 15,
      "outputs": [
        {
          "output_type": "stream",
          "name": "stderr",
          "text": [
            "[nltk_data] Downloading package punkt to /root/nltk_data...\n",
            "[nltk_data]   Package punkt is already up-to-date!\n"
          ]
        },
        {
          "output_type": "execute_result",
          "data": {
            "text/plain": [
              "True"
            ]
          },
          "metadata": {},
          "execution_count": 15
        }
      ]
    },
    {
      "cell_type": "code",
      "source": [
        "def similarity_of_two_sent(a,b):\n",
        "  token_sent1 = word_tokenize(a.lower())\n",
        "  token_sent2 = word_tokenize(b.lower())\n",
        "  model = Word2Vec([token_sent1, token_sent2], vector_size = 100, window = 5, min_count = 1, workers = 4)\n",
        "  vector_sent1 = [model.wv[word] for word in token_sent1]\n",
        "  vector_sent2 = [model.wv[word] for word in token_sent2]\n",
        "  avg_vec_sent1 = np.mean(vector_sent1, axis = 0) #to avoid the value error when two sentences have a different length\n",
        "  avg_vec_sent2 = np.mean(vector_sent2, axis = 0)\n",
        "  cos_sim = np.dot(avg_vec_sent1, avg_vec_sent2) / (np.linalg.norm(avg_vec_sent1) * np.linalg.norm(avg_vec_sent2))\n",
        "  euclid_dist = np.linalg.norm(avg_vec_sent1 - avg_vec_sent2)\n",
        "  return cos_sim, euclid_dist"
      ],
      "metadata": {
        "id": "SSxGR3VozhG9"
      },
      "execution_count": 18,
      "outputs": []
    },
    {
      "cell_type": "code",
      "source": [
        "sent1 = 'Australia won the CWC this year'\n",
        "sent2 = 'Australia won the CWC as one of the best team in the tournament'\n",
        "similarity_of_two_sent(sent1,sent2)"
      ],
      "metadata": {
        "colab": {
          "base_uri": "https://localhost:8080/"
        },
        "id": "1gMNYgHa0br2",
        "outputId": "3b54d8f1-bc1b-452e-9f4a-59bc8778b655"
      },
      "execution_count": 20,
      "outputs": [
        {
          "output_type": "execute_result",
          "data": {
            "text/plain": [
              "(0.6042668, 0.019910926)"
            ]
          },
          "metadata": {},
          "execution_count": 20
        }
      ]
    },
    {
      "cell_type": "code",
      "source": [],
      "metadata": {
        "id": "_Bi0SrTA0pCj"
      },
      "execution_count": null,
      "outputs": []
    }
  ]
}